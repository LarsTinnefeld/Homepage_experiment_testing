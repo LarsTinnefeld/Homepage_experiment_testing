{
 "metadata": {
  "language_info": {
   "codemirror_mode": {
    "name": "ipython",
    "version": 3
   },
   "file_extension": ".py",
   "mimetype": "text/x-python",
   "name": "python",
   "nbconvert_exporter": "python",
   "pygments_lexer": "ipython3",
   "version": "3.8.3-final"
  },
  "orig_nbformat": 2,
  "kernelspec": {
   "name": "python3",
   "display_name": "Python 3",
   "language": "python"
  }
 },
 "nbformat": 4,
 "nbformat_minor": 2,
 "cells": [
  {
   "cell_type": "code",
   "execution_count": 1,
   "metadata": {},
   "outputs": [],
   "source": [
    "import pandas as pd\n"
   ]
  },
  {
   "cell_type": "code",
   "execution_count": 2,
   "metadata": {},
   "outputs": [],
   "source": [
    "data = pd.read_csv('homepage-experiment-data.csv')"
   ]
  },
  {
   "cell_type": "code",
   "execution_count": 3,
   "metadata": {},
   "outputs": [
    {
     "output_type": "execute_result",
     "data": {
      "text/plain": [
       "             Day  Control Cookies  Control Downloads  Control Licenses  \\\n",
       "count  29.000000        29.000000          29.000000         29.000000   \n",
       "mean   15.000000      1615.551724         260.482759         24.482759   \n",
       "std     8.514693       116.308268          28.338037         13.873461   \n",
       "min     1.000000      1457.000000         223.000000          1.000000   \n",
       "25%     8.000000      1529.000000         240.000000         12.000000   \n",
       "50%    15.000000      1602.000000         254.000000         30.000000   \n",
       "75%    22.000000      1700.000000         276.000000         34.000000   \n",
       "max    29.000000      1822.000000         331.000000         42.000000   \n",
       "\n",
       "       Experiment Cookies  Experiment Downloads  Experiment Licenses  \n",
       "count            29.00000             29.000000            29.000000  \n",
       "mean           1632.62069            294.758621            25.241379  \n",
       "std             113.02636             22.404807            13.762410  \n",
       "min            1458.00000            256.000000             1.000000  \n",
       "25%            1555.00000            279.000000            20.000000  \n",
       "50%            1606.00000            290.000000            29.000000  \n",
       "75%            1728.00000            300.000000            36.000000  \n",
       "max            1861.00000            349.000000            44.000000  "
      ],
      "text/html": "<div>\n<style scoped>\n    .dataframe tbody tr th:only-of-type {\n        vertical-align: middle;\n    }\n\n    .dataframe tbody tr th {\n        vertical-align: top;\n    }\n\n    .dataframe thead th {\n        text-align: right;\n    }\n</style>\n<table border=\"1\" class=\"dataframe\">\n  <thead>\n    <tr style=\"text-align: right;\">\n      <th></th>\n      <th>Day</th>\n      <th>Control Cookies</th>\n      <th>Control Downloads</th>\n      <th>Control Licenses</th>\n      <th>Experiment Cookies</th>\n      <th>Experiment Downloads</th>\n      <th>Experiment Licenses</th>\n    </tr>\n  </thead>\n  <tbody>\n    <tr>\n      <th>count</th>\n      <td>29.000000</td>\n      <td>29.000000</td>\n      <td>29.000000</td>\n      <td>29.000000</td>\n      <td>29.00000</td>\n      <td>29.000000</td>\n      <td>29.000000</td>\n    </tr>\n    <tr>\n      <th>mean</th>\n      <td>15.000000</td>\n      <td>1615.551724</td>\n      <td>260.482759</td>\n      <td>24.482759</td>\n      <td>1632.62069</td>\n      <td>294.758621</td>\n      <td>25.241379</td>\n    </tr>\n    <tr>\n      <th>std</th>\n      <td>8.514693</td>\n      <td>116.308268</td>\n      <td>28.338037</td>\n      <td>13.873461</td>\n      <td>113.02636</td>\n      <td>22.404807</td>\n      <td>13.762410</td>\n    </tr>\n    <tr>\n      <th>min</th>\n      <td>1.000000</td>\n      <td>1457.000000</td>\n      <td>223.000000</td>\n      <td>1.000000</td>\n      <td>1458.00000</td>\n      <td>256.000000</td>\n      <td>1.000000</td>\n    </tr>\n    <tr>\n      <th>25%</th>\n      <td>8.000000</td>\n      <td>1529.000000</td>\n      <td>240.000000</td>\n      <td>12.000000</td>\n      <td>1555.00000</td>\n      <td>279.000000</td>\n      <td>20.000000</td>\n    </tr>\n    <tr>\n      <th>50%</th>\n      <td>15.000000</td>\n      <td>1602.000000</td>\n      <td>254.000000</td>\n      <td>30.000000</td>\n      <td>1606.00000</td>\n      <td>290.000000</td>\n      <td>29.000000</td>\n    </tr>\n    <tr>\n      <th>75%</th>\n      <td>22.000000</td>\n      <td>1700.000000</td>\n      <td>276.000000</td>\n      <td>34.000000</td>\n      <td>1728.00000</td>\n      <td>300.000000</td>\n      <td>36.000000</td>\n    </tr>\n    <tr>\n      <th>max</th>\n      <td>29.000000</td>\n      <td>1822.000000</td>\n      <td>331.000000</td>\n      <td>42.000000</td>\n      <td>1861.00000</td>\n      <td>349.000000</td>\n      <td>44.000000</td>\n    </tr>\n  </tbody>\n</table>\n</div>"
     },
     "metadata": {},
     "execution_count": 3
    }
   ],
   "source": [
    "data.describe()"
   ]
  },
  {
   "cell_type": "code",
   "execution_count": 4,
   "metadata": {},
   "outputs": [
    {
     "output_type": "stream",
     "name": "stdout",
     "text": [
      "<class 'pandas.core.frame.DataFrame'>\nRangeIndex: 29 entries, 0 to 28\nData columns (total 7 columns):\n #   Column                Non-Null Count  Dtype\n---  ------                --------------  -----\n 0   Day                   29 non-null     int64\n 1   Control Cookies       29 non-null     int64\n 2   Control Downloads     29 non-null     int64\n 3   Control Licenses      29 non-null     int64\n 4   Experiment Cookies    29 non-null     int64\n 5   Experiment Downloads  29 non-null     int64\n 6   Experiment Licenses   29 non-null     int64\ndtypes: int64(7)\nmemory usage: 1.7 KB\n"
     ]
    }
   ],
   "source": [
    "data.info()"
   ]
  },
  {
   "cell_type": "code",
   "execution_count": null,
   "metadata": {},
   "outputs": [],
   "source": []
  }
 ]
}